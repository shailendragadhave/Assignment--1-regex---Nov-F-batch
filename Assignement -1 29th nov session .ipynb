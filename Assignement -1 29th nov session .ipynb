{
 "cells": [
  {
   "cell_type": "code",
   "execution_count": 3,
   "id": "778857a3",
   "metadata": {},
   "outputs": [],
   "source": [
    "a = 45\n",
    "b = 35 \n",
    "c = 50 \n",
    "d= 90 "
   ]
  },
  {
   "cell_type": "code",
   "execution_count": 4,
   "id": "b537d416",
   "metadata": {},
   "outputs": [
    {
     "name": "stdout",
     "output_type": "stream",
     "text": [
      "220\n"
     ]
    }
   ],
   "source": [
    "#Addition\n",
    "print (a+b+c+d)"
   ]
  },
  {
   "cell_type": "code",
   "execution_count": 5,
   "id": "9822f48b",
   "metadata": {},
   "outputs": [
    {
     "name": "stdout",
     "output_type": "stream",
     "text": [
      "10\n"
     ]
    }
   ],
   "source": [
    "#subraction \n",
    "print(d-b-a)"
   ]
  },
  {
   "cell_type": "code",
   "execution_count": 6,
   "id": "d143c7db",
   "metadata": {},
   "outputs": [
    {
     "name": "stdout",
     "output_type": "stream",
     "text": [
      "7087500\n"
     ]
    }
   ],
   "source": [
    "# Multiplication\n",
    "print(a*b*c*d)"
   ]
  },
  {
   "cell_type": "code",
   "execution_count": 7,
   "id": "ad4f7789",
   "metadata": {},
   "outputs": [
    {
     "name": "stdout",
     "output_type": "stream",
     "text": [
      "2.0\n"
     ]
    }
   ],
   "source": [
    "#division \n",
    "print (d/a)"
   ]
  },
  {
   "cell_type": "code",
   "execution_count": 8,
   "id": "597db132",
   "metadata": {},
   "outputs": [
    {
     "name": "stdout",
     "output_type": "stream",
     "text": [
      "135.7\n"
     ]
    }
   ],
   "source": [
    "print (a+b/c+d)"
   ]
  },
  {
   "cell_type": "code",
   "execution_count": null,
   "id": "198d05d5",
   "metadata": {},
   "outputs": [],
   "source": []
  }
 ],
 "metadata": {
  "kernelspec": {
   "display_name": "Python 3",
   "language": "python",
   "name": "python3"
  },
  "language_info": {
   "codemirror_mode": {
    "name": "ipython",
    "version": 3
   },
   "file_extension": ".py",
   "mimetype": "text/x-python",
   "name": "python",
   "nbconvert_exporter": "python",
   "pygments_lexer": "ipython3",
   "version": "3.8.8"
  }
 },
 "nbformat": 4,
 "nbformat_minor": 5
}
